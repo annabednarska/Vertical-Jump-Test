{
 "cells": [
  {
   "cell_type": "code",
   "execution_count": 1,
   "metadata": {
    "slideshow": {
     "slide_type": "-"
    }
   },
   "outputs": [],
   "source": [
    "# %matplotlib notebook\n",
    "\n",
    "import pandas as pd\n",
    "import numpy as np\n",
    "import spm1d\n",
    "import matplotlib.pyplot as plt\n",
    "import io\n",
    "import ipywidgets as widgets\n",
    "from IPython.display import Markdown as md\n",
    "from IPython.display import display"
   ]
  },
  {
   "cell_type": "code",
   "execution_count": 2,
   "metadata": {
    "slideshow": {
     "slide_type": "-"
    }
   },
   "outputs": [],
   "source": [
    "def read_data(uploader):\n",
    "    keys = list(uploader.value.keys())\n",
    "    data = {}\n",
    "    v = 0\n",
    "    for k in keys:\n",
    "        file = pd.read_excel(io.BytesIO(uploader.value[k]['content']), engine='openpyxl')\n",
    "        file.columns = ['force1', 'force2']\n",
    "        file['force'] = file['force1'] + file['force2']\n",
    "        file = file.drop(['force1', 'force2'], axis=1)\n",
    "        file = file.dropna()\n",
    "        data[v] = file\n",
    "        v = v+1\n",
    "    return data\n",
    "\n",
    "def cut_data(data, jump_type):\n",
    "    data_cut = {}\n",
    "    for d in data:\n",
    "        sampling_frequency = 1000\n",
    "        standing_length = 1\n",
    "\n",
    "        quiet_standing_length = standing_length * sampling_frequency\n",
    "\n",
    "        body_weight = data[d][0:quiet_standing_length]\n",
    "        body_weight_mean = np.round(np.mean(body_weight['force']), 2)\n",
    "        body_mass = np.round(body_weight_mean / 9.81, 2)\n",
    "\n",
    "        body_weight_sd = np.round(np.std(body_weight['force']), 2)\n",
    "\n",
    "        global_peak_force_index = data[d][data[d]['force'] == np.max(data[d]['force'])].index[0]\n",
    "\n",
    "        global_minimum_force_index = data[d][data[d]['force'] == np.min(data[d]['force'])].index[0]\n",
    "\n",
    "        first_peak_force_index = data[d][data[d]['force'] == np.max(data[d][0:global_minimum_force_index]['force'])].index[0]\n",
    "\n",
    "        first_minimum_force_index = data[d][data[d]['force'] == np.min(data[d][0:first_peak_force_index]['force'])].index[0]\n",
    "\n",
    "        if(jump_type == 'Countermovement Jump (cmj)'):\n",
    "            initiation_threshold = np.round(body_weight_mean - body_weight_sd * 5, 2)\n",
    "            inverse_threshold = np.round(body_weight_mean + body_weight_sd * 5, 2)\n",
    "\n",
    "        if(jump_type == 'Squat Jump (sj)'):\n",
    "            initiation_threshold = np.round(body_weight_mean + body_weight_sd * 5, 2)\n",
    "            inverse_threshold = np.round(body_weight_mean - body_weight_sd * 5, 2)\n",
    "            \n",
    "        x = (data[d][0:first_minimum_force_index]['force'] <= initiation_threshold).to_frame()\n",
    "        jump_threshold_index = max(x[x['force'] == True].index)\n",
    "\n",
    "        pre_movement_maximum_force = max(data[d][int(jump_threshold_index - 0.1 * sampling_frequency):jump_threshold_index]['force'])\n",
    "        x = (data[d][0:jump_threshold_index]['force'] == pre_movement_maximum_force).to_frame()\n",
    "        pre_movement_maximum_force_index = max(x[x['force'] == True].index)\n",
    "\n",
    "        x = (data[d][0:pre_movement_maximum_force_index]['force'] <= inverse_threshold).to_frame()\n",
    "        jump_start_index = max(x[x['force'] == True].index) - round(0.029 * sampling_frequency)\n",
    "\n",
    "        x = (data[d][0:pre_movement_maximum_force_index]['force'] <= inverse_threshold).to_frame()\n",
    "        jump_start_index = max(x[x['force'] == True].index) - round(0.029 * sampling_frequency)\n",
    "        \n",
    "        final_data = data[d][jump_start_index:global_minimum_force_index]\n",
    "        final_data = final_data.reset_index(drop = True)\n",
    "    \n",
    "        data_cut[d] = final_data\n",
    "    return data_cut\n",
    "\n",
    "def normalize(data_cut):\n",
    "    from scipy.interpolate import interp1d\n",
    "    resampled = []\n",
    "    for c in data_cut:\n",
    "        y_original = np.array(data_cut[c].dropna()).squeeze()\n",
    "        x_original = np.linspace(0, len(y_original)-1, num=len(y_original), endpoint=True)\n",
    "        x_new = np.arange(0, len(y_original)-1, len(y_original)/100)\n",
    "        f = interp1d(x_original, y_original, kind='cubic')\n",
    "        resampled_x = f(x_new)\n",
    "        resampled.append(resampled_x)\n",
    "    normalized = pd.DataFrame(resampled).T   \n",
    "    normalized = normalized.round(decimals=1)\n",
    "    return normalized\n",
    "\n",
    "def test(sampleA, sampleB, alpha = 0.05, parametric = True):\n",
    "    from matplotlib import pyplot\n",
    "    import spm1d\n",
    "\n",
    "    YA,YB = sampleA, sampleB\n",
    "    \n",
    "    if parametric == True:\n",
    "        t = spm1d.stats.ttest_paired(YA, YB)\n",
    "        ti = t.inference(alpha, two_tailed=True)\n",
    "        print(ti)\n",
    "\n",
    "    if parametric == False:\n",
    "        t = spm1d.stats.nonparam.ttest2(YA, YB)\n",
    "        ti = t.inference(alpha, two_tailed=False)\n",
    "        print(ti)\n",
    "\n",
    "    pyplot.close('all')\n",
    "\n",
    "    p = pyplot.figure(figsize=(14, 4))\n",
    "    ax = pyplot.axes((0.1, 0.15, 0.35, 0.8))\n",
    "    spm1d.plot.plot_mean_sd(YA)\n",
    "    spm1d.plot.plot_mean_sd(YB, linecolor='r', facecolor='r')\n",
    "    ax.axhline(y=0, color='k', linestyle=':')\n",
    "    ax.set_xlabel('normalized time [%]')\n",
    "    ax.set_ylabel('force')\n",
    "    \n",
    "    ax = pyplot.axes((0.55,0.15,0.35,0.8))\n",
    "    ti.plot()\n",
    "    ti.plot_threshold_label(fontsize=8)\n",
    "    ti.plot_p_values(size=10, offsets=[(0,0.3)])\n",
    "    ax.set_xlabel('normalized time [%]')\n",
    "    \n",
    "    return ti, p"
   ]
  },
  {
   "cell_type": "markdown",
   "metadata": {
    "slideshow": {
     "slide_type": "-"
    }
   },
   "source": [
    "### Select jump type"
   ]
  },
  {
   "cell_type": "code",
   "execution_count": 3,
   "metadata": {},
   "outputs": [
    {
     "data": {
      "application/vnd.jupyter.widget-view+json": {
       "model_id": "fc5b6c51cc694233824314304414d07f",
       "version_major": 2,
       "version_minor": 0
      },
      "text/plain": [
       "Dropdown(options=('Squat Jump (sj)', 'Countermovement Jump (cmj)'), value='Squat Jump (sj)')"
      ]
     },
     "metadata": {},
     "output_type": "display_data"
    }
   ],
   "source": [
    "jump_type = 'Squat Jump (sj)'\n",
    "dropdown = widgets.Dropdown(options=['Squat Jump (sj)', 'Countermovement Jump (cmj)'])\n",
    "dropdown.value = jump_type\n",
    "\n",
    "def on_change(v):\n",
    "    jump_type = v['new']\n",
    "    \n",
    "dropdown.observe(on_change, names='value')\n",
    "display(dropdown)"
   ]
  },
  {
   "cell_type": "markdown",
   "metadata": {},
   "source": [
    "### Upload files for first trial \n",
    "Files must be in .xlsx format and contain only 2 columns with force values."
   ]
  },
  {
   "cell_type": "code",
   "execution_count": 4,
   "metadata": {},
   "outputs": [
    {
     "data": {
      "application/vnd.jupyter.widget-view+json": {
       "model_id": "de6fc1bb9dfe4011951023a756aae252",
       "version_major": 2,
       "version_minor": 0
      },
      "text/plain": [
       "FileUpload(value={}, accept='.xlsx', description='Upload', multiple=True)"
      ]
     },
     "metadata": {},
     "output_type": "display_data"
    }
   ],
   "source": [
    "before_uploader = widgets.FileUpload(accept='.xlsx', multiple=True)\n",
    "before_uploader.observe(on_change, names='value')\n",
    "display(before_uploader)"
   ]
  },
  {
   "cell_type": "code",
   "execution_count": 5,
   "metadata": {},
   "outputs": [
    {
     "data": {
      "application/vnd.jupyter.widget-view+json": {
       "model_id": "b10529f55a3745c49e70470e679bf6b4",
       "version_major": 2,
       "version_minor": 0
      },
      "text/plain": [
       "Button(description='OK', style=ButtonStyle())"
      ]
     },
     "metadata": {},
     "output_type": "display_data"
    },
    {
     "data": {
      "application/vnd.jupyter.widget-view+json": {
       "model_id": "90ce70fd7e914c03829c1a5024b065df",
       "version_major": 2,
       "version_minor": 0
      },
      "text/plain": [
       "Output()"
      ]
     },
     "metadata": {},
     "output_type": "display_data"
    }
   ],
   "source": [
    "button = widgets.Button(description=\"OK\")\n",
    "output_before = widgets.Output()\n",
    "\n",
    "display(button, output_before)\n",
    "\n",
    "def on_button_clicked(b):\n",
    "    output_before.clear_output()\n",
    "    with output_before:\n",
    "        before_files = list(before_uploader.value.keys())\n",
    "        display(md(\"Uploaded {} file(s) for first trial: \\n\\n {}\".format(len(before_files),', '.join(before_files))))\n",
    "        before_data = read_data(before_uploader)\n",
    "        before_cut = cut_data(before_data, jump_type)\n",
    "        before_norm = normalize(before_cut)\n",
    "        x = plt.figure(figsize=(12,4))\n",
    "        plt.plot(before_norm)\n",
    "        plt.title('First trial (cut & normalized)')\n",
    "        plt.xlabel('Normalized time [%]')\n",
    "        plt.ylabel('Force')\n",
    "        plt.show(x)\n",
    "\n",
    "button.on_click(on_button_clicked)"
   ]
  },
  {
   "cell_type": "markdown",
   "metadata": {},
   "source": [
    "### Upload files for second trial \n",
    "Files must be in .xlsx format and contain only 2 columns with force values."
   ]
  },
  {
   "cell_type": "code",
   "execution_count": 6,
   "metadata": {},
   "outputs": [
    {
     "data": {
      "application/vnd.jupyter.widget-view+json": {
       "model_id": "6c59b447ec574fee842f51b85b968f38",
       "version_major": 2,
       "version_minor": 0
      },
      "text/plain": [
       "FileUpload(value={}, accept='.xlsx', description='Upload', multiple=True)"
      ]
     },
     "metadata": {},
     "output_type": "display_data"
    }
   ],
   "source": [
    "after_uploader = widgets.FileUpload(accept='.xlsx', multiple=True)\n",
    "after_uploader.observe(on_change, names='value')\n",
    "display(after_uploader)"
   ]
  },
  {
   "cell_type": "code",
   "execution_count": 7,
   "metadata": {},
   "outputs": [
    {
     "data": {
      "application/vnd.jupyter.widget-view+json": {
       "model_id": "8f50a54aa7684e4fb8e095a9dbcef65f",
       "version_major": 2,
       "version_minor": 0
      },
      "text/plain": [
       "Button(description='OK', style=ButtonStyle())"
      ]
     },
     "metadata": {},
     "output_type": "display_data"
    },
    {
     "data": {
      "application/vnd.jupyter.widget-view+json": {
       "model_id": "d82b6a5dc5cd401582974a00dbf77b3e",
       "version_major": 2,
       "version_minor": 0
      },
      "text/plain": [
       "Output()"
      ]
     },
     "metadata": {},
     "output_type": "display_data"
    }
   ],
   "source": [
    "button = widgets.Button(description=\"OK\")\n",
    "output_after = widgets.Output()\n",
    "\n",
    "display(button, output_after)\n",
    "\n",
    "def on_button_clicked(b):\n",
    "    output_after.clear_output()\n",
    "    with output_after:\n",
    "        after_files = list(after_uploader.value.keys())\n",
    "        display(md(\"Uploaded {} file(s) for second trial: \\n\\n {}\".format(len(after_files),', '.join(after_files))))\n",
    "        after_data = read_data(after_uploader)\n",
    "        after_cut = cut_data(after_data, jump_type)\n",
    "        after_norm = normalize(after_cut)\n",
    "        \n",
    "        x = plt.figure(figsize=(12,4))\n",
    "        plt.plot(after_norm)\n",
    "        plt.title('Second trial (cut & normalized)')\n",
    "        plt.xlabel('Normalized time [%]')\n",
    "        plt.ylabel('Force')\n",
    "        plt.show(x)\n",
    "\n",
    "button.on_click(on_button_clicked)"
   ]
  },
  {
   "cell_type": "markdown",
   "metadata": {},
   "source": [
    "# Run test"
   ]
  },
  {
   "cell_type": "code",
   "execution_count": 11,
   "metadata": {},
   "outputs": [
    {
     "data": {
      "application/vnd.jupyter.widget-view+json": {
       "model_id": "af7a6671e7824a608138cc6a98c9a877",
       "version_major": 2,
       "version_minor": 0
      },
      "text/plain": [
       "Button(description='RUN TEST', style=ButtonStyle())"
      ]
     },
     "metadata": {},
     "output_type": "display_data"
    },
    {
     "data": {
      "application/vnd.jupyter.widget-view+json": {
       "model_id": "821f87db9e324496bafab849afb9e465",
       "version_major": 2,
       "version_minor": 0
      },
      "text/plain": [
       "Output()"
      ]
     },
     "metadata": {},
     "output_type": "display_data"
    },
    {
     "data": {
      "image/png": "[encoded data removed]",
      "text/plain": [
       "<Figure size 1008x288 with 2 Axes>"
      ]
     },
     "metadata": {
      "needs_background": "light"
     },
     "output_type": "display_data"
    }
   ],
   "source": [
    "button_run = widgets.Button(description=\"RUN TEST\")\n",
    "output_run = widgets.Output()\n",
    "\n",
    "display(button_run, output_run)\n",
    "\n",
    "def on_button_clicked_run(b):\n",
    "    output_run.clear_output()\n",
    "    with output_run:\n",
    "        before_data = read_data(before_uploader)\n",
    "        before_cut = cut_data(before_data, jump_type)\n",
    "        before_norm = normalize(before_cut)\n",
    "        before_norm_np = before_norm.T.to_numpy()\n",
    "        \n",
    "        after_data = read_data(after_uploader)\n",
    "        after_cut = cut_data(after_data, jump_type)\n",
    "        after_norm = normalize(after_cut)\n",
    "        after_norm_np = after_norm.T.to_numpy()\n",
    "        \n",
    "        h0 = []\n",
    "\n",
    "        for i, j in zip(before_norm_np, after_norm_np):\n",
    "            p  = spm1d.stats.normality.sw.regress(i,j)[1]\n",
    "            p = round(p, 6)\n",
    "            p_test = p < 0.05\n",
    "            h0.append(p_test)\n",
    "\n",
    "        if_parametric = all(h0)\n",
    "       \n",
    "        result, plot = test(before_norm_np, after_norm_np, alpha = 0.05, parametric = if_parametric)\n",
    "        display(plot)\n",
    "\n",
    "        if len(result.clusters) > 0:\n",
    "            endpoints = []\n",
    "            for c in result.clusters:\n",
    "                e = np.round(c.endpoints, 1)\n",
    "                endpoints.append(e)\n",
    "\n",
    "            display(md(\"Endpoints for normalized time intervals with statistical differences: \\n\\n - {}\".format('\\n - '.join((map(str, endpoints))))))\n",
    "        \n",
    "        else:\n",
    "             display(md(\"\\n\\nThere are no intervals with statistical differences.\"))\n",
    "\n",
    "button_run.on_click(on_button_clicked_run)"
   ]
  }
 ],
 "metadata": {
  "kernelspec": {
   "display_name": "Python 3 (ipykernel)",
   "language": "python",
   "name": "python3"
  },
  "language_info": {
   "codemirror_mode": {
    "name": "ipython",
    "version": 3
   },
   "file_extension": ".py",
   "mimetype": "text/x-python",
   "name": "python",
   "nbconvert_exporter": "python",
   "pygments_lexer": "ipython3",
   "version": "3.7.9"
  }
 },
 "nbformat": 4,
 "nbformat_minor": 4
}
